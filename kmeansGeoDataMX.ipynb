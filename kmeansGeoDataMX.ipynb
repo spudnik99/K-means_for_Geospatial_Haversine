{
 "metadata": {
  "language_info": {
   "codemirror_mode": {
    "name": "ipython",
    "version": 3
   },
   "file_extension": ".py",
   "mimetype": "text/x-python",
   "name": "python",
   "nbconvert_exporter": "python",
   "pygments_lexer": "ipython3",
   "version": "3.7.8"
  },
  "orig_nbformat": 2,
  "kernelspec": {
   "name": "python378jvsc74a57bd0025a2b08c364efbe80c9a30ab315992867837b3635ac9a53b056e954098749da",
   "display_name": "Python 3.7.8 64-bit ('base': conda)"
  }
 },
 "nbformat": 4,
 "nbformat_minor": 2,
 "cells": [
  {
   "cell_type": "code",
   "execution_count": 1,
   "metadata": {},
   "outputs": [],
   "source": [
    "import pandas as pd\n",
    "import numpy as np\n",
    "from sklearn.cluster import DBSCAN"
   ]
  },
  {
   "cell_type": "code",
   "execution_count": 2,
   "metadata": {},
   "outputs": [],
   "source": [
    "mx_localities=pd.read_excel('c:\\Lionbridge\\MxData\\AGEEML_20212101236315.xlsx',sheet_name='AGEEML', \n",
    "              dtype={'CVE_LOC_ALL': str, 'CVE_ENT_TXT': str,'CVE_MUN_ALL': str, 'CVE_LOC_TXT': str,'Lat_Decimal':float,'Lon_Decimal':float,'Pob_Total':int})"
   ]
  },
  {
   "source": [
    "mx_localities_out=mx_localities[mx_localities[\"Pob_Total\"]>2000]\n",
    "coords=mx_localities_out[['Lat_Decimal','Lon_Decimal']].to_numpy()\n",
    "kms_per_radian = 6371.0088\n",
    "epsilon = 50.5 / kms_per_radian\n",
    "db = DBSCAN(eps=epsilon, min_samples=1, algorithm='ball_tree', metric='haversine').fit(np.radians(coords))\n",
    "cluster_labels = db.labels_\n",
    "num_clusters = len(set(cluster_labels))\n",
    "clusters = pd.Series([coords[cluster_labels == n] for n in range(num_clusters)])\n",
    "print('Number of clusters: {}'.format(num_clusters))\n",
    "print('Clusters: {}'.format(clusters))\n"
   ],
   "cell_type": "code",
   "metadata": {},
   "execution_count": null,
   "outputs": []
  },
  {
   "cell_type": "code",
   "execution_count": null,
   "metadata": {},
   "outputs": [],
   "source": [
    "import plotly.graph_objects as go\n",
    "\n",
    "fig = go.Figure()\n",
    "\n",
    "#Loop through clusters to add to map\n",
    "for i in range(num_clusters):\n",
    "    df_clusters=pd.DataFrame(clusters[i],columns=[\"Lat_Decimal\",\"Lon_Decimal\"])\n",
    "    fig.add_trace(go.Scattermapbox(lat=df_clusters.Lat_Decimal, lon=df_clusters.Lon_Decimal,mode='markers',\n",
    "        marker=go.scattermapbox.Marker(\n",
    "            size=17,\n",
    "            color=10+(2*i),#'rgb(255, 0, 0)',\n",
    "            opacity=0.7\n",
    "        ), text='Cluster:'+str(i)))\n",
    "\n",
    "\n",
    "\n",
    "fig.update_layout(mapbox_style=\"open-street-map\")\n",
    "#fig.update_layout(autosize=True,hovermode='closest',pitch=30,zoom=10)\n",
    "fig.update_layout(margin={\"r\":0,\"t\":0,\"l\":0,\"b\":0})\n",
    "\n",
    "fig.show()"
   ]
  },
  {
   "cell_type": "code",
   "execution_count": null,
   "metadata": {},
   "outputs": [],
   "source": [
    "#pd.DataFrame(data=clusters[1],columns=[\"Lat_Decimal\",\"Lon_Decimal\"],dtype={'Lat_Decimal':float,'Lon_Decimal':float})\n",
    "clust=pd.DataFrame(data=clusters[1],columns=[\"Lat_Decimal\",\"Lon_Decimal\"])\n",
    "clust"
   ]
  },
  {
   "cell_type": "code",
   "execution_count": null,
   "metadata": {},
   "outputs": [],
   "source": []
  }
 ]
}